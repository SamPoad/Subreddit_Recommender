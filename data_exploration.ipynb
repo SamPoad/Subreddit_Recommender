{
 "cells": [
  {
   "cell_type": "markdown",
   "metadata": {},
   "source": [
    "# Subreddit Recommender\n",
    "### Exploratory Data Analysis"
   ]
  },
  {
   "cell_type": "code",
   "execution_count": 1,
   "metadata": {},
   "outputs": [],
   "source": [
    "# DEPENDENCIES\n",
    "import pandas as pd\n",
    "import numpy as np\n",
    "import matplotlib.pyplot as plt\n",
    "import seaborn as sns\n",
    "import sqlite3\n"
   ]
  },
  {
   "cell_type": "code",
   "execution_count": 2,
   "metadata": {},
   "outputs": [],
   "source": [
    "# GLOBAL VARIABLES\n"
   ]
  },
  {
   "cell_type": "code",
   "execution_count": 3,
   "metadata": {},
   "outputs": [],
   "source": [
    "# IMPORT THE DATA\n",
    "try:\n",
    "    # import the data from csv\n",
    "    data = pd.read_csv('reddit_user_subreddit.csv')\n",
    "except:\n",
    "    # import and run the sql query\n",
    "    connection = sqlite3.connect('reddit_data.db')\n",
    "    data = pd.read_sql_query(\n",
    "    \"\"\"\n",
    "    SELECT O.username_id, S.subreddit, COUNT(O.utc) AS visits\n",
    "        FROM\n",
    "            Subreddit S,\n",
    "            Observation O\n",
    "        WHERE S.subreddit_id = O.subreddit_id\n",
    "        GROUP BY O.username_id, S.subreddit\n",
    "        ;\n",
    "    \"\"\",\n",
    "    connection\n",
    "    )\n",
    "\n",
    "    data.to_csv('reddit_user_subreddit.csv')"
   ]
  },
  {
   "cell_type": "code",
   "execution_count": 22,
   "metadata": {
    "scrolled": true
   },
   "outputs": [
    {
     "data": {
      "text/html": [
       "<div>\n",
       "<style scoped>\n",
       "    .dataframe tbody tr th:only-of-type {\n",
       "        vertical-align: middle;\n",
       "    }\n",
       "\n",
       "    .dataframe tbody tr th {\n",
       "        vertical-align: top;\n",
       "    }\n",
       "\n",
       "    .dataframe thead th {\n",
       "        text-align: right;\n",
       "    }\n",
       "</style>\n",
       "<table border=\"1\" class=\"dataframe\">\n",
       "  <thead>\n",
       "    <tr style=\"text-align: right;\">\n",
       "      <th></th>\n",
       "      <th>username_id</th>\n",
       "      <th>subreddit</th>\n",
       "      <th>COUNT(O.utc)</th>\n",
       "    </tr>\n",
       "  </thead>\n",
       "  <tbody>\n",
       "    <tr>\n",
       "      <td>0</td>\n",
       "      <td>0</td>\n",
       "      <td>AOImmortals</td>\n",
       "      <td>2</td>\n",
       "    </tr>\n",
       "    <tr>\n",
       "      <td>1</td>\n",
       "      <td>0</td>\n",
       "      <td>Addons4Kodi</td>\n",
       "      <td>1</td>\n",
       "    </tr>\n",
       "    <tr>\n",
       "      <td>2</td>\n",
       "      <td>0</td>\n",
       "      <td>AdviceAnimals</td>\n",
       "      <td>7</td>\n",
       "    </tr>\n",
       "    <tr>\n",
       "      <td>3</td>\n",
       "      <td>0</td>\n",
       "      <td>AskReddit</td>\n",
       "      <td>14</td>\n",
       "    </tr>\n",
       "    <tr>\n",
       "      <td>4</td>\n",
       "      <td>0</td>\n",
       "      <td>Assistance</td>\n",
       "      <td>9</td>\n",
       "    </tr>\n",
       "  </tbody>\n",
       "</table>\n",
       "</div>"
      ],
      "text/plain": [
       "   username_id      subreddit  COUNT(O.utc)\n",
       "0            0    AOImmortals             2\n",
       "1            0    Addons4Kodi             1\n",
       "2            0  AdviceAnimals             7\n",
       "3            0      AskReddit            14\n",
       "4            0     Assistance             9"
      ]
     },
     "execution_count": 22,
     "metadata": {},
     "output_type": "execute_result"
    }
   ],
   "source": [
    "# VISUALLY INSPECT THE DATA\n",
    "data.head()\n",
    "# data.tail()"
   ]
  },
  {
   "cell_type": "code",
   "execution_count": 19,
   "metadata": {},
   "outputs": [
    {
     "data": {
      "text/html": [
       "<div>\n",
       "<style scoped>\n",
       "    .dataframe tbody tr th:only-of-type {\n",
       "        vertical-align: middle;\n",
       "    }\n",
       "\n",
       "    .dataframe tbody tr th {\n",
       "        vertical-align: top;\n",
       "    }\n",
       "\n",
       "    .dataframe thead th {\n",
       "        text-align: right;\n",
       "    }\n",
       "</style>\n",
       "<table border=\"1\" class=\"dataframe\">\n",
       "  <thead>\n",
       "    <tr style=\"text-align: right;\">\n",
       "      <th></th>\n",
       "      <th>username_id</th>\n",
       "      <th>subreddit</th>\n",
       "      <th>COUNT(O.utc)</th>\n",
       "    </tr>\n",
       "  </thead>\n",
       "  <tbody>\n",
       "    <tr>\n",
       "      <td>892432</td>\n",
       "      <td>22606</td>\n",
       "      <td>todayilearned</td>\n",
       "      <td>1</td>\n",
       "    </tr>\n",
       "    <tr>\n",
       "      <td>892433</td>\n",
       "      <td>22606</td>\n",
       "      <td>travel</td>\n",
       "      <td>11</td>\n",
       "    </tr>\n",
       "    <tr>\n",
       "      <td>892434</td>\n",
       "      <td>22607</td>\n",
       "      <td>getdisciplined</td>\n",
       "      <td>3</td>\n",
       "    </tr>\n",
       "    <tr>\n",
       "      <td>892435</td>\n",
       "      <td>22608</td>\n",
       "      <td>FFBraveExvius</td>\n",
       "      <td>26</td>\n",
       "    </tr>\n",
       "    <tr>\n",
       "      <td>892436</td>\n",
       "      <td>22608</td>\n",
       "      <td>ffbe</td>\n",
       "      <td>8</td>\n",
       "    </tr>\n",
       "    <tr>\n",
       "      <td>892437</td>\n",
       "      <td>22609</td>\n",
       "      <td>AskReddit</td>\n",
       "      <td>187</td>\n",
       "    </tr>\n",
       "    <tr>\n",
       "      <td>892438</td>\n",
       "      <td>22609</td>\n",
       "      <td>ICanDrawThat</td>\n",
       "      <td>2</td>\n",
       "    </tr>\n",
       "    <tr>\n",
       "      <td>892439</td>\n",
       "      <td>22609</td>\n",
       "      <td>Kaylemains</td>\n",
       "      <td>3</td>\n",
       "    </tr>\n",
       "    <tr>\n",
       "      <td>892440</td>\n",
       "      <td>22609</td>\n",
       "      <td>LeagueofLegendsMeta</td>\n",
       "      <td>1</td>\n",
       "    </tr>\n",
       "    <tr>\n",
       "      <td>892441</td>\n",
       "      <td>22609</td>\n",
       "      <td>Metal</td>\n",
       "      <td>7</td>\n",
       "    </tr>\n",
       "    <tr>\n",
       "      <td>892442</td>\n",
       "      <td>22609</td>\n",
       "      <td>Music</td>\n",
       "      <td>6</td>\n",
       "    </tr>\n",
       "    <tr>\n",
       "      <td>892443</td>\n",
       "      <td>22609</td>\n",
       "      <td>PowerMetal</td>\n",
       "      <td>49</td>\n",
       "    </tr>\n",
       "    <tr>\n",
       "      <td>892444</td>\n",
       "      <td>22609</td>\n",
       "      <td>RyzeMains</td>\n",
       "      <td>1</td>\n",
       "    </tr>\n",
       "    <tr>\n",
       "      <td>892445</td>\n",
       "      <td>22609</td>\n",
       "      <td>Showerthoughts</td>\n",
       "      <td>4</td>\n",
       "    </tr>\n",
       "    <tr>\n",
       "      <td>892446</td>\n",
       "      <td>22609</td>\n",
       "      <td>WritingPrompts</td>\n",
       "      <td>7</td>\n",
       "    </tr>\n",
       "    <tr>\n",
       "      <td>892447</td>\n",
       "      <td>22609</td>\n",
       "      <td>explainlikeimfive</td>\n",
       "      <td>2</td>\n",
       "    </tr>\n",
       "    <tr>\n",
       "      <td>892448</td>\n",
       "      <td>22609</td>\n",
       "      <td>gaming</td>\n",
       "      <td>2</td>\n",
       "    </tr>\n",
       "    <tr>\n",
       "      <td>892449</td>\n",
       "      <td>22609</td>\n",
       "      <td>hearthstone</td>\n",
       "      <td>24</td>\n",
       "    </tr>\n",
       "    <tr>\n",
       "      <td>892450</td>\n",
       "      <td>22609</td>\n",
       "      <td>jaycemains</td>\n",
       "      <td>1</td>\n",
       "    </tr>\n",
       "    <tr>\n",
       "      <td>892451</td>\n",
       "      <td>22609</td>\n",
       "      <td>leagueoflegends</td>\n",
       "      <td>396</td>\n",
       "    </tr>\n",
       "    <tr>\n",
       "      <td>892452</td>\n",
       "      <td>22609</td>\n",
       "      <td>linux4noobs</td>\n",
       "      <td>3</td>\n",
       "    </tr>\n",
       "    <tr>\n",
       "      <td>892453</td>\n",
       "      <td>22609</td>\n",
       "      <td>movies</td>\n",
       "      <td>1</td>\n",
       "    </tr>\n",
       "    <tr>\n",
       "      <td>892454</td>\n",
       "      <td>22609</td>\n",
       "      <td>news</td>\n",
       "      <td>1</td>\n",
       "    </tr>\n",
       "    <tr>\n",
       "      <td>892455</td>\n",
       "      <td>22609</td>\n",
       "      <td>personalfinance</td>\n",
       "      <td>3</td>\n",
       "    </tr>\n",
       "    <tr>\n",
       "      <td>892456</td>\n",
       "      <td>22609</td>\n",
       "      <td>singedmains</td>\n",
       "      <td>2</td>\n",
       "    </tr>\n",
       "    <tr>\n",
       "      <td>892457</td>\n",
       "      <td>22609</td>\n",
       "      <td>summonerschool</td>\n",
       "      <td>170</td>\n",
       "    </tr>\n",
       "    <tr>\n",
       "      <td>892458</td>\n",
       "      <td>22609</td>\n",
       "      <td>symphonicmetal</td>\n",
       "      <td>5</td>\n",
       "    </tr>\n",
       "    <tr>\n",
       "      <td>892459</td>\n",
       "      <td>22609</td>\n",
       "      <td>tifu</td>\n",
       "      <td>2</td>\n",
       "    </tr>\n",
       "    <tr>\n",
       "      <td>892460</td>\n",
       "      <td>22609</td>\n",
       "      <td>todayilearned</td>\n",
       "      <td>8</td>\n",
       "    </tr>\n",
       "    <tr>\n",
       "      <td>892461</td>\n",
       "      <td>22609</td>\n",
       "      <td>xkcd</td>\n",
       "      <td>17</td>\n",
       "    </tr>\n",
       "  </tbody>\n",
       "</table>\n",
       "</div>"
      ],
      "text/plain": [
       "        username_id            subreddit  COUNT(O.utc)\n",
       "892432        22606        todayilearned             1\n",
       "892433        22606               travel            11\n",
       "892434        22607       getdisciplined             3\n",
       "892435        22608        FFBraveExvius            26\n",
       "892436        22608                 ffbe             8\n",
       "892437        22609            AskReddit           187\n",
       "892438        22609         ICanDrawThat             2\n",
       "892439        22609           Kaylemains             3\n",
       "892440        22609  LeagueofLegendsMeta             1\n",
       "892441        22609                Metal             7\n",
       "892442        22609                Music             6\n",
       "892443        22609           PowerMetal            49\n",
       "892444        22609            RyzeMains             1\n",
       "892445        22609       Showerthoughts             4\n",
       "892446        22609       WritingPrompts             7\n",
       "892447        22609    explainlikeimfive             2\n",
       "892448        22609               gaming             2\n",
       "892449        22609          hearthstone            24\n",
       "892450        22609           jaycemains             1\n",
       "892451        22609      leagueoflegends           396\n",
       "892452        22609          linux4noobs             3\n",
       "892453        22609               movies             1\n",
       "892454        22609                 news             1\n",
       "892455        22609      personalfinance             3\n",
       "892456        22609          singedmains             2\n",
       "892457        22609       summonerschool           170\n",
       "892458        22609       symphonicmetal             5\n",
       "892459        22609                 tifu             2\n",
       "892460        22609        todayilearned             8\n",
       "892461        22609                 xkcd            17"
      ]
     },
     "execution_count": 19,
     "metadata": {},
     "output_type": "execute_result"
    }
   ],
   "source": [
    "# data.drop(labels = 'Unnamed: 0', axis = 1, inplace = True)\n",
    "data.tail(30)"
   ]
  },
  {
   "cell_type": "code",
   "execution_count": 9,
   "metadata": {},
   "outputs": [
    {
     "name": "stdout",
     "output_type": "stream",
     "text": [
      "<class 'pandas.core.frame.DataFrame'>\n",
      "RangeIndex: 892462 entries, 0 to 892461\n",
      "Data columns (total 3 columns):\n",
      "username_id     892462 non-null int64\n",
      "subreddit       892462 non-null object\n",
      "COUNT(O.utc)    892462 non-null int64\n",
      "dtypes: int64(2), object(1)\n",
      "memory usage: 20.4+ MB\n"
     ]
    }
   ],
   "source": [
    "# ASSESS - HOW MUCH DATA CLEANING IS NEEDED? \n",
    "data.info() # we can see that there are no null values"
   ]
  },
  {
   "cell_type": "code",
   "execution_count": 11,
   "metadata": {},
   "outputs": [
    {
     "data": {
      "text/plain": [
       "username_id      int64\n",
       "subreddit       object\n",
       "COUNT(O.utc)     int64\n",
       "dtype: object"
      ]
     },
     "execution_count": 11,
     "metadata": {},
     "output_type": "execute_result"
    }
   ],
   "source": [
    "data.dtypes"
   ]
  },
  {
   "cell_type": "code",
   "execution_count": 25,
   "metadata": {},
   "outputs": [
    {
     "name": "stdout",
     "output_type": "stream",
     "text": [
      "0    int64\n",
      "1    int64\n",
      "dtype: object\n"
     ]
    },
    {
     "data": {
      "text/plain": [
       "dtype('O')"
      ]
     },
     "execution_count": 25,
     "metadata": {},
     "output_type": "execute_result"
    }
   ],
   "source": [
    "# x = pd.DataFrame([[0, 1], ['0', '1']])\n",
    "# x = pd.DataFrame([['0', '1'], ['0', '1']])\n",
    "x = pd.DataFrame([[0, 1], [0, 1]])\n",
    "print(x.dtypes)\n",
    "x2 = x[0].astype('str')\n",
    "x2.dtypes # confirmed, plan to run .astype('str') on the data['subreddit'] column, just in case "
   ]
  },
  {
   "cell_type": "code",
   "execution_count": 17,
   "metadata": {},
   "outputs": [
    {
     "data": {
      "text/plain": [
       "<matplotlib.axes._subplots.AxesSubplot at 0x1a278b6c10>"
      ]
     },
     "execution_count": 17,
     "metadata": {},
     "output_type": "execute_result"
    },
    {
     "data": {
      "image/png": "[encoded data removed]",
      "text/plain": [
       "<Figure size 432x288 with 1 Axes>"
      ]
     },
     "metadata": {
      "needs_background": "light"
     },
     "output_type": "display_data"
    }
   ],
   "source": [
    "# LOOK AT THE DISTRIBUTION OF THE COUNTS\n",
    "sns.boxplot(x = data['COUNT(O.utc)']) "
   ]
  },
  {
   "cell_type": "code",
   "execution_count": 23,
   "metadata": {},
   "outputs": [],
   "source": [
    "data2 = data.copy()"
   ]
  },
  {
   "cell_type": "code",
   "execution_count": null,
   "metadata": {},
   "outputs": [
    {
     "name": "stderr",
     "output_type": "stream",
     "text": [
      "/Users/sampoad/opt/anaconda3/lib/python3.7/site-packages/ipykernel_launcher.py:3: SettingWithCopyWarning: \n",
      "A value is trying to be set on a copy of a slice from a DataFrame.\n",
      "Try using .loc[row_indexer,col_indexer] = value instead\n",
      "\n",
      "See the caveats in the documentation: http://pandas.pydata.org/pandas-docs/stable/user_guide/indexing.html#returning-a-view-versus-a-copy\n",
      "  This is separate from the ipykernel package so we can avoid doing imports until\n"
     ]
    }
   ],
   "source": [
    "for user in data2['username_id'].unique():\n",
    "    \n",
    "    data2[ data2['username_id'] == user]['ratings'] = data2[ data2['username_id'] == user]['COUNT(O.utc)'] / (data2[ data2['username_id'] == user]['COUNT(O.utc)'].sum() )\n",
    "    \n",
    "data2.head()"
   ]
  },
  {
   "cell_type": "code",
   "execution_count": null,
   "metadata": {},
   "outputs": [],
   "source": []
  }
 ],
 "metadata": {
  "kernelspec": {
   "display_name": "Python 3",
   "language": "python",
   "name": "python3"
  },
  "language_info": {
   "codemirror_mode": {
    "name": "ipython",
    "version": 3
   },
   "file_extension": ".py",
   "mimetype": "text/x-python",
   "name": "python",
   "nbconvert_exporter": "python",
   "pygments_lexer": "ipython3",
   "version": "3.7.4"
  }
 },
 "nbformat": 4,
 "nbformat_minor": 2
}
